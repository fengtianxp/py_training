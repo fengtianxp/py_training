{
 "cells": [
  {
   "cell_type": "code",
   "execution_count": 1,
   "id": "b4ad7533",
   "metadata": {
    "scrolled": true
   },
   "outputs": [
    {
     "name": "stdout",
     "output_type": "stream",
     "text": [
      "hello world\n"
     ]
    }
   ],
   "source": [
    "# starting to learn python using print\n",
    "# 'string' type variable definition and usage\n",
    "a = 'hello world'\n",
    "print(a)"
   ]
  },
  {
   "cell_type": "code",
   "execution_count": 2,
   "id": "b97f85e2",
   "metadata": {},
   "outputs": [
    {
     "name": "stdout",
     "output_type": "stream",
     "text": [
      "\n",
      "Here is multi\n",
      "line string\n",
      "variable definition\n",
      "\n"
     ]
    }
   ],
   "source": [
    "# multi line stirng declartion\n",
    "multi_line_variable = '''\n",
    "Here is multi\n",
    "line string\n",
    "variable definition\n",
    "'''\n",
    "print(multi_line_variable)"
   ]
  },
  {
   "cell_type": "code",
   "execution_count": 3,
   "id": "46378914",
   "metadata": {},
   "outputs": [
    {
     "name": "stdout",
     "output_type": "stream",
     "text": [
      "1887\n"
     ]
    }
   ],
   "source": [
    "# 'number' type variable definition and usage\n",
    "a = 899\n",
    "b = 988\n",
    "print(a + b)"
   ]
  },
  {
   "cell_type": "code",
   "execution_count": null,
   "id": "0823b06e",
   "metadata": {},
   "outputs": [
    {
     "name": "stdout",
     "output_type": "stream",
     "text": [
      "Grade 6 is bigger than grade 5 is  True\n",
      "Grade 5 is bigger than grade 6 is  False\n"
     ]
    }
   ],
   "source": [
    "# boolean type variable definition and usage.\n",
    "# In Python the boolean type only True|False\n",
    "grade_five = 5\n",
    "grade_six = 6\n",
    "print('Grade 6 is bigger than grade 5 is ', grade_six >  grade_five)\n",
    "print('Grade 5 is bigger than grade 6 is ', grade_six <  grade_five);\n",
    "\n",
    "age = 13\n",
    "\n",
    "if age >= 18:\n",
    "    print('adult')\n",
    "else:\n",
    "    print('teenager')"
   ]
  },
  {
   "cell_type": "code",
   "execution_count": 5,
   "id": "3ed49985",
   "metadata": {},
   "outputs": [
    {
     "name": "stdout",
     "output_type": "stream",
     "text": [
      "current timestamp is  1693729698.4969358\n",
      "2023-09-03 16:28:18\n"
     ]
    }
   ],
   "source": [
    "# 'date/time' type variable definition and usage\n",
    "import time\n",
    "b = time.time()\n",
    "print(\"current timestamp is \",  b);\n",
    "# 格式化成2016-03-20 11:45:39形式\n",
    "print(time.strftime(\"%Y-%m-%d %H:%M:%S\", time.localtime()))"
   ]
  },
  {
   "cell_type": "code",
   "execution_count": null,
   "id": "8b6345a2",
   "metadata": {},
   "outputs": [],
   "source": []
  }
 ],
 "metadata": {
  "kernelspec": {
   "display_name": "Python 3 (ipykernel)",
   "language": "python",
   "name": "python3"
  },
  "language_info": {
   "codemirror_mode": {
    "name": "ipython",
    "version": 3
   },
   "file_extension": ".py",
   "mimetype": "text/x-python",
   "name": "python",
   "nbconvert_exporter": "python",
   "pygments_lexer": "ipython3",
   "version": "3.10.0"
  }
 },
 "nbformat": 4,
 "nbformat_minor": 5
}
